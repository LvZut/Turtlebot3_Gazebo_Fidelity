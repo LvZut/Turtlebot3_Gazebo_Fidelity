{
 "cells": [
  {
   "cell_type": "markdown",
   "metadata": {},
   "source": [
    "# Scan distribution\n",
    "Shows the distributions that the scan data follows. Scan data is located in scan_log.txt."
   ]
  },
  {
   "cell_type": "code",
   "execution_count": 133,
   "metadata": {},
   "outputs": [],
   "source": [
    "import numpy as np\n",
    "import matplotlib.pyplot as plt\n",
    "import scipy.stats as stats\n",
    "import math"
   ]
  },
  {
   "cell_type": "code",
   "execution_count": 134,
   "metadata": {},
   "outputs": [
    {
     "data": {
      "text/plain": [
       "array([0.8143481 , 0.8143481 , 0.80172443, ..., 0.77816087, 0.76045656,\n",
       "       0.76045656])"
      ]
     },
     "execution_count": 134,
     "metadata": {},
     "output_type": "execute_result"
    }
   ],
   "source": [
    "data = np.loadtxt(\"laser_log_14:59:54.txt\")\n",
    "data"
   ]
  },
  {
   "cell_type": "code",
   "execution_count": 141,
   "metadata": {},
   "outputs": [
    {
     "data": {
      "image/png": "[encoded data removed]",
      "text/plain": [
       "<Figure size 432x288 with 1 Axes>"
      ]
     },
     "metadata": {
      "needs_background": "light"
     },
     "output_type": "display_data"
    },
    {
     "name": "stdout",
     "output_type": "stream",
     "text": [
      "mean: 0.788274\n",
      "std: 0.016956\n"
     ]
    }
   ],
   "source": [
    "# round data\n",
    "# not necessary if a lot of data is available\n",
    "x = np.round(data, 7)\n",
    "\n",
    "x = sorted(x)\n",
    "mu = np.mean(x)\n",
    "sigma = np.std(x)\n",
    "\n",
    "plt.figure(1)\n",
    "plt.hist(x, normed=True, alpha=0.5)\n",
    "plt.plot(x, stats.norm.pdf(x, mu, sigma), color=\"red\")\n",
    "plt.show()\n",
    "print(\"mean: %f\\nstd: %f\" % (mu, sigma))"
   ]
  },
  {
   "cell_type": "code",
   "execution_count": null,
   "metadata": {},
   "outputs": [],
   "source": []
  }
 ],
 "metadata": {
  "kernelspec": {
   "display_name": "Python 3",
   "language": "python",
   "name": "python3"
  },
  "language_info": {
   "codemirror_mode": {
    "name": "ipython",
    "version": 3
   },
   "file_extension": ".py",
   "mimetype": "text/x-python",
   "name": "python",
   "nbconvert_exporter": "python",
   "pygments_lexer": "ipython3",
   "version": "3.7.3"
  }
 },
 "nbformat": 4,
 "nbformat_minor": 2
}
